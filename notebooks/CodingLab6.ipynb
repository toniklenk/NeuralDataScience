{
 "cells": [
  {
   "cell_type": "markdown",
   "metadata": {},
   "source": [
    "_Neural Data Science_\n",
    "\n",
    "Lecturer: Dr. Jan Lause, Prof. Dr. Philipp Berens\n",
    "\n",
    "Tutors: Jonas Beck, Fabio Seel, Julius Würzler\n",
    "\n",
    "Summer term 2025\n",
    "\n",
    "Student names: Luca Kosina, Sascha Mühlinghaus, Max Bardelang\n",
    "\n",
    "LLM Disclaimer: Copilot for generating repetitive code in plotting , boilerplate code and nasty indexing tasks"
   ]
  },
  {
   "attachments": {},
   "cell_type": "markdown",
   "metadata": {},
   "source": [
    "# Coding Lab 6\n",
    "\n",
    "In this exercise we are going to fit a latent variable model (Poisson GPFA) to both toy data and real data from monkey primary visual cortex. For details, see [Ecker et al. 2014](https://www.cell.com/neuron/pdf/S0896-6273(14)00104-4.pdf)."
   ]
  },
  {
   "attachments": {},
   "cell_type": "markdown",
   "metadata": {},
   "source": [
    "## Preliminaries\n",
    "\n",
    "### 1. Code \n",
    "\n",
    "The toolbox we are going to use contains an implementation of the EM algorithm to fit the poisson-gpfa. \n",
    "\n",
    "Assuming you `git clone https://github.com/berenslab/poisson-gpfa` to the parent directory and have the following directory structure:\n",
    "\n",
    "\n",
    "```\n",
    "├── data/\n",
    "│   └── nds_cl_6_data.mat\n",
    "├── poisson-gpfa/\n",
    "├── notebooks\n",
    "│   └── CodingLab6.ipynb\n",
    "├── matplotlib_style.txt\n",
    "├── requirements.txt\n",
    "```\n",
    "\n",
    "then you can import the related functions via:\n",
    "\n",
    "```\n",
    "import sys\n",
    "sys.path.append('../poisson-gpfa/')\n",
    "sys.path.append('../poisson-gpfa/funs')\n",
    "\n",
    "import funs.util as util\n",
    "import funs.engine as engine\n",
    "```\n",
    "\n",
    "Change the paths if you have a different directory structure. For the details of the algorithm, please refer to the thesis `hooram_thesis.pdf` from ILIAS.\n",
    "\n",
    "### 2. Data\n",
    "\n",
    "Download the data file ```nds_cl_6_data.mat``` from ILIAS and save it in a ```data/``` folder."
   ]
  },
  {
   "cell_type": "code",
   "execution_count": 1,
   "metadata": {},
   "outputs": [],
   "source": [
    "import numpy as np\n",
    "import scipy.io as sio\n",
    "import matplotlib.pyplot as plt\n",
    "\n",
    "# style\n",
    "import seaborn as sns\n",
    "\n",
    "# poisson-gpfa\n",
    "import sys\n",
    "sys.path.append('../poisson-gpfa/')\n",
    "sys.path.append('../poisson-gpfa/funs')\n",
    "\n",
    "import funs.util as util\n",
    "import funs.engine as engine"
   ]
  },
  {
   "cell_type": "code",
   "execution_count": 2,
   "metadata": {},
   "outputs": [
    {
     "name": "stdout",
     "output_type": "stream",
     "text": [
      "Last updated: 2025-05-30 08:48:27CEST\n",
      "\n",
      "Python implementation: CPython\n",
      "Python version       : 3.10.0\n",
      "IPython version      : 8.36.0\n",
      "\n",
      "sklearn: 1.6.1\n",
      "\n",
      "numpy     : 2.0.1\n",
      "sys       : 3.10.0 | packaged by conda-forge | (default, Nov 20 2021, 02:24:10) [GCC 9.4.0]\n",
      "scipy     : 1.13.1\n",
      "seaborn   : 0.13.2\n",
      "matplotlib: 3.10.1\n",
      "\n",
      "Watermark: 2.5.0\n",
      "\n"
     ]
    }
   ],
   "source": [
    "%matplotlib inline\n",
    "\n",
    "%load_ext jupyter_black\n",
    "\n",
    "%load_ext watermark\n",
    "%watermark --time --date --timezone --updated --python --iversions --watermark -p sklearn"
   ]
  },
  {
   "cell_type": "code",
   "execution_count": 3,
   "metadata": {},
   "outputs": [],
   "source": [
    "plt.style.use(\"../matplotlib_style.txt\")"
   ]
  },
  {
   "attachments": {},
   "cell_type": "markdown",
   "metadata": {},
   "source": [
    "## Task 1. Generate some toy data to test the poisson-GPFA code\n",
    "\n",
    "We start by verifying our code on toy data. The cell below contains code to generate data for 30 neurons, 100 trials (1000 ms each) and 50ms bin size. The neurons' firing rate $\\lambda_k$ is assumed to be a constant $d_k$ modulated by a one-dimensional latent state $x$, which is drawn from a Gaussian process:\n",
    "\n",
    "$\\lambda_k = \\exp(c_kx + d_k)$\n",
    "\n",
    "Each neuron's weight $c_k$ is drawn randomly from a normal distribution and spike counts are sampled form a Poisson distribution with rate $\\lambda_k$.\n",
    "\n",
    "Your task is to fit a Poisson GPFA model with one latent variable to this data (see `engine.PPGPFAfit`).\n",
    "\n",
    "Hint: You can use `util.dataset?`, `engine.PPGPFAfit?` or `util.initializeParams?` to find out more about the provided package.\n",
    "\n",
    "*Grading: 3 pts*"
   ]
  },
  {
   "cell_type": "markdown",
   "metadata": {},
   "source": [
    "GPFA gaussian process factor analysis"
   ]
  },
  {
   "cell_type": "code",
   "execution_count": 4,
   "metadata": {},
   "outputs": [
    {
     "name": "stdout",
     "output_type": "stream",
     "text": [
      "+------------- Simulated Dataset Options -------------+\n",
      "                                                    1 | Dimensionality of Latent State\n",
      "                                                   30 | Dimensionality of Observed State (# neurons)\n",
      "                                                 1000 | Duration of trials (ms):\n",
      "                                                   50 | Size of bins (ms):\n",
      "                                                  100 | Number of Trials\n",
      "+-----------------------------------------------------+\n",
      "\u001b[KSampling trial 100 ...\n",
      "Average firing rate per neuron in this dataset: 3.431 Hz.\n"
     ]
    }
   ],
   "source": [
    "# ---------------------------------\n",
    "# simulate a training set (0.5 pts)\n",
    "# ---------------------------------\n",
    "\n",
    "\n",
    "# Initialize random number generator\n",
    "np.random.seed(420)\n",
    "\n",
    "# Specify dataset & fitting parameters\n",
    "xdim = 1  # number of latent dimensions\n",
    "ydim = 30  # number of neurons\n",
    "\n",
    "\n",
    "# Sample from the model (make a toy dataset)\n",
    "training_set = util.dataset(\n",
    "    trialDur=1000,\n",
    "    binSize=50,\n",
    "    numTrials=100,\n",
    "    xdim=xdim,\n",
    "    ydim=ydim,\n",
    "    seed=42,\n",
    ")"
   ]
  },
  {
   "cell_type": "markdown",
   "metadata": {},
   "source": [
    "### Fit the model"
   ]
  },
  {
   "cell_type": "code",
   "execution_count": 24,
   "metadata": {},
   "outputs": [
    {
     "name": "stdout",
     "output_type": "stream",
     "text": [
      "Initializing parameters with Poisson-PCA..\n",
      "+-------------------- Fit Options --------------------+\n",
      "                                                    1 | Dimensionality of Latent State\n",
      "                                                   30 | Dimensionality of Observed State (# neurons)\n",
      "                                                Batch | EM mode:\n",
      "                                                   50 | Max EM iterations:\n",
      "                                              laplace | Inference Method\n",
      "+-----------------------------------------------------+\n",
      "\u001b[KIteration:  50 of  50, nPLL: = -261.2017\n",
      "This dataset is a simulated dataset.\n",
      "Processing performance against ground truth parameters...\n"
     ]
    }
   ],
   "source": [
    "# -----------------------\n",
    "# fit the model (0.5 pts)\n",
    "# -----------------------\n",
    "\n",
    "# Initialize parameters using Poisson-PC\n",
    "initial_params = util.initializeParams(xdim=xdim, ydim=ydim, experiment=training_set)\n",
    "\n",
    "# choose sensible parameters and run fit\n",
    "fitToy = engine.PPGPFAfit(training_set, initial_params, xdim=xdim, EMmode=\"Batch\")"
   ]
  },
  {
   "cell_type": "code",
   "execution_count": 26,
   "metadata": {},
   "outputs": [],
   "source": [
    "# some useful functions\n",
    "def allTrialsState(fit: engine.PPGPFAfit, p) -> np.ndarray:\n",
    "    \"\"\"Reshape the latent signal and the spike counts\"\"\"\n",
    "    x = np.zeros([p, 0])\n",
    "    for i in range(len(fit.infRes[\"post_mean\"])):\n",
    "        x = np.concatenate((x, fit.infRes[\"post_mean\"][i]), axis=1)\n",
    "    return x\n",
    "\n",
    "\n",
    "def allTrialsX(training_set: util.dataset) -> np.ndarray:\n",
    "    \"\"\"Reshape the ground truth\n",
    "    latent signal and the spike counts\"\"\"\n",
    "    x_gt = np.array([])\n",
    "    for i in range(len(training_set.data)):\n",
    "        x_gt = np.concatenate((x_gt, training_set.data[i][\"X\"][0]), axis=0)\n",
    "    return x_gt"
   ]
  },
  {
   "cell_type": "markdown",
   "metadata": {},
   "source": [
    "### Plot the ground truth vs. inferred model\n",
    "Verify your fit by plotting both ground truth and inferred parameters for:\n",
    "1. weights C\n",
    "2. biases d\n",
    "3. latent state x \n",
    "\n",
    "Note that the sign of fitted latent state and its weights are ambiguous (you can flip both without changing the model). Make sure you correct the sign for the plot if it does not match the ground truth."
   ]
  },
  {
   "cell_type": "code",
   "execution_count": 61,
   "metadata": {},
   "outputs": [
    {
     "name": "stdout",
     "output_type": "stream",
     "text": [
      "original (1, 2000) (2000,)\n",
      "reshaped (20, 100) (20, 100)\n"
     ]
    }
   ],
   "source": [
    "# All trials latent state vector\n",
    "x_est = allTrialsState(fitToy, 1)\n",
    "x_true = allTrialsX(training_set)\n",
    "print(\"original\", x_est.shape, x_true.shape)\n",
    "\n",
    "# reshape\n",
    "x_est = x_est.reshape(20, -1)  # (T, n_trials)\n",
    "x_true = x_true.reshape(20, -1)  # (T, n_trials)\n",
    "print(\"reshaped\", x_est.shape, x_true.shape)"
   ]
  },
  {
   "cell_type": "code",
   "execution_count": 62,
   "metadata": {},
   "outputs": [
    {
     "name": "stdout",
     "output_type": "stream",
     "text": [
      "randomly selected (20, 10) (20, 10)\n"
     ]
    }
   ],
   "source": [
    "# randomly select 20 trials\n",
    "idx = np.random.choice(x_est.shape[1], 10, replace=False)\n",
    "x_est = x_est[:, idx]\n",
    "x_true = x_true[:, idx]\n",
    "print(\"randomly selected\", x_est.shape, x_true.shape)\n",
    "\n",
    "# add vertical offset to latent states\n",
    "x_est += 5.0 * np.arange(x_est.shape[1])\n",
    "x_true += 5.0 * np.arange(x_true.shape[1])"
   ]
  },
  {
   "cell_type": "code",
   "execution_count": 85,
   "metadata": {},
   "outputs": [
    {
     "data": {
      "image/png": "[encoded data removed]",
      "text/plain": [
       "<Figure size 500x900 with 3 Axes>"
      ]
     },
     "metadata": {},
     "output_type": "display_data"
    }
   ],
   "source": [
    "from matplotlib.gridspec import GridSpec\n",
    "\n",
    "# ------------------------------------------------------\n",
    "# Plot ground truth vs. inferred model\n",
    "# Plot the weights `C`, biases `d` and latent states (2 pts)\n",
    "# ------------------------------------------------------\n",
    "\n",
    "fig = plt.figure(figsize=(5, 9))\n",
    "gs = GridSpec(2, 2, height_ratios=[0.7, 2.0], figure=fig)\n",
    "ax_C = fig.add_subplot(gs[0, 0])\n",
    "ax_d = fig.add_subplot(gs[0, 1])\n",
    "ax_latent = fig.add_subplot(gs[1, :])\n",
    "ax = {\"C\": ax_C, \"d\": ax_d, \"latent\": ax_latent}\n",
    "\n",
    "\n",
    "ax[\"C\"].set_title(\"Weights C\")\n",
    "ax[\"C\"].plot(training_set.params[\"C\"], \"k--\", label=\"optimal C\", alpha=0.5)\n",
    "ax[\"C\"].plot(fitToy.optimParams[\"C\"], \"r\", label=\"fitted C\", alpha=0.5)\n",
    "ax[\"C\"].legend(loc=\"upper right\")\n",
    "ax[\"C\"].set_xlabel(\"neuron\")\n",
    "ax[\"C\"].set_ylim(-0.5, 1.0)\n",
    "\n",
    "ax[\"d\"].set_title(\"Biases d\")\n",
    "ax[\"d\"].plot(training_set.params[\"d\"], \"k--\", label=\"optimal d\", alpha=0.5)\n",
    "ax[\"d\"].plot(fitToy.optimParams[\"d\"], \"r\", label=\"fitted d\", alpha=0.5)\n",
    "ax[\"d\"].legend(loc=\"upper right\")\n",
    "ax[\"d\"].set_xlabel(\"neuron\")\n",
    "ax[\"d\"].set_ylim(-3.0, 0)\n",
    "\n",
    "\n",
    "# For the latent states consider seperating each trial by a vertical line\n",
    "# plot only for a subset of trialsS\n",
    "ax[\"latent\"].set_title(f\"Latent states (trials {', '.join(map(str, idx + 1))})\")\n",
    "ax[\"latent\"].plot(x_true, \"k--\")\n",
    "ax[\"latent\"].plot([], [], \"k--\", label=\"true x\")  # dummy for legend\n",
    "ax[\"latent\"].plot(x_est, \"r\")\n",
    "ax[\"latent\"].plot([], [], \"r\", label=\"fitted x\")  # dummy for legend\n",
    "ax[\"latent\"].legend(loc=\"upper right\")\n",
    "ax[\"latent\"].set_xlabel(\"time bin\")\n",
    "ax[\"latent\"].set_xticks(np.arange(0, 21, 5))\n",
    "ax[\"latent\"].set_xticks(np.arange(0, 21, 5), minor=True)\n",
    "ax[\"latent\"].set_ylabel(\"latent state\")\n",
    "ax[\"latent\"].set_yticks(np.arange(0, 6 * x_est.shape[1], 5))\n",
    "ax[\"latent\"].set_yticklabels([]);"
   ]
  },
  {
   "cell_type": "markdown",
   "metadata": {},
   "source": [
    "## Task 2: Fit GPFA model to real data. \n",
    "\n",
    "We now fit the model to real data and cross-validate over the dimensionality of the latent variable.\n",
    "\n",
    "*Grading: 4 pts*\n",
    "\n"
   ]
  },
  {
   "cell_type": "markdown",
   "metadata": {},
   "source": [
    "### Load data\n",
    "\n",
    "The cell below implements loading the data and encapsulates it into a class that matches the interface of the Poisson GPFA engine. You don't need to do anything here."
   ]
  },
  {
   "cell_type": "code",
   "execution_count": 10,
   "metadata": {},
   "outputs": [],
   "source": [
    "class EckerDataset:\n",
    "    \"\"\"Loosy class\"\"\"\n",
    "\n",
    "    def __init__(\n",
    "        self,\n",
    "        path: str,\n",
    "        subject_id: int = 0,\n",
    "        ydim: int = 55,\n",
    "        trialDur: int = 2000,\n",
    "        binSize: int = 100,\n",
    "        numTrials: int = 100,\n",
    "        ydimData: bool = False,\n",
    "        numTrData: bool = True,\n",
    "    ):\n",
    "        # T = binSize #int(trialDur/binSize)\n",
    "        T = int(trialDur / binSize)\n",
    "        matdat = sio.loadmat(path)\n",
    "        self.matdat = matdat\n",
    "        data = []\n",
    "        trial_durs = []\n",
    "        for trial_id in range(numTrials):\n",
    "            trial_time = matdat[\"spikeTimes\"][:, trial_id][0]\n",
    "            trial_big_time = np.min(trial_time)\n",
    "            trial_end_time = np.max(trial_time)\n",
    "            trial_durs.append(trial_end_time - trial_big_time)\n",
    "        for trial_id in range(numTrials):\n",
    "            Y = []\n",
    "            spike_time = []\n",
    "            data.append(\n",
    "                {\n",
    "                    \"Y\": matdat[\"spikeCounts\"][:, :, trial_id],\n",
    "                    \"spike_time\": matdat[\"spikeTimes\"][:, trial_id],\n",
    "                }\n",
    "            )\n",
    "        self.T = T\n",
    "        self.trial_durs = trial_durs\n",
    "        self.data = data\n",
    "        self.trialDur = trialDur\n",
    "        self.binSize = binSize\n",
    "        self.numTrials = numTrials\n",
    "        self.ydim = ydim\n",
    "        util.dataset.getMeanAndVariance(self)\n",
    "        util.dataset.getAvgFiringRate(self)\n",
    "        util.dataset.getAllRaster(self)"
   ]
  },
  {
   "cell_type": "code",
   "execution_count": 11,
   "metadata": {},
   "outputs": [],
   "source": [
    "path = \"../data/nds_cl_6_data.mat\"\n",
    "data = EckerDataset(path)"
   ]
  },
  {
   "cell_type": "markdown",
   "metadata": {},
   "source": [
    "### Fit Poisson GPFA models and perform model comparison\n",
    "\n",
    "Split the data into 80 trials used for training and 20 trials held out for performing model comparison. On the training set, fit models using one to five latent variables. Compute the performance of each model on the held-out test set.\n",
    "\n",
    "Hint: You can use the `crossValidation` function in the Poisson GPFA package.\n",
    "\n",
    "Optional: The `crossValidation` function computes the sum of the squared errors (SSE) on the test set, which is not ideal. The predictive log-likelihood under the Poisson model would be a better measure, which you are welcome to compute instead."
   ]
  },
  {
   "attachments": {},
   "cell_type": "markdown",
   "metadata": {},
   "source": [
    "### Derivation for log-likelihood\n",
    "\n",
    "_You can add your calculations in_ $\\LaTeX$ _here_.\n",
    "\n",
    "$p_\\lambda(x_t) = \\ldots$\n",
    "\n",
    "$L(\\lambda_k; x_1, ..., x_N) = \\ldots$ \n",
    "\n",
    "$log(L) = l(\\lambda_k; x_1, ..., x_N) = \\ldots$"
   ]
  },
  {
   "cell_type": "code",
   "execution_count": 12,
   "metadata": {},
   "outputs": [
    {
     "name": "stdout",
     "output_type": "stream",
     "text": [
      "Assessing optimal latent dimensionality will take a long time.\n",
      "Initializing parameters with Poisson-PCA..\n",
      "+-------------------- Fit Options --------------------+\n",
      "                                                    1 | Dimensionality of Latent State\n",
      "                                                   55 | Dimensionality of Observed State (# neurons)\n",
      "                                                Batch | EM mode:\n",
      "                                                   10 | Max EM iterations:\n",
      "                                              laplace | Inference Method\n",
      "+-----------------------------------------------------+\n",
      "\u001b[KIteration:  10 of  10, nPLL: = -395.3538Performing leave-one-out cross validation...\n",
      "Initializing parameters with Poisson-PCA..\n",
      "+-------------------- Fit Options --------------------+\n",
      "                                                    2 | Dimensionality of Latent State\n",
      "                                                   55 | Dimensionality of Observed State (# neurons)\n",
      "                                                Batch | EM mode:\n",
      "                                                   10 | Max EM iterations:\n",
      "                                              laplace | Inference Method\n",
      "+-----------------------------------------------------+\n",
      "\u001b[KIteration:  10 of  10, nPLL: = -366.2021Performing leave-one-out cross validation...\n",
      "Initializing parameters with Poisson-PCA..\n",
      "+-------------------- Fit Options --------------------+\n",
      "                                                    3 | Dimensionality of Latent State\n",
      "                                                   55 | Dimensionality of Observed State (# neurons)\n",
      "                                                Batch | EM mode:\n",
      "                                                   10 | Max EM iterations:\n",
      "                                              laplace | Inference Method\n",
      "+-----------------------------------------------------+\n",
      "\u001b[KIteration:  10 of  10, nPLL: = -347.9970Performing leave-one-out cross validation...\n",
      "Initializing parameters with Poisson-PCA..\n",
      "+-------------------- Fit Options --------------------+\n",
      "                                                    4 | Dimensionality of Latent State\n",
      "                                                   55 | Dimensionality of Observed State (# neurons)\n",
      "                                                Batch | EM mode:\n",
      "                                                   10 | Max EM iterations:\n",
      "                                              laplace | Inference Method\n",
      "+-----------------------------------------------------+\n",
      "\u001b[KIteration:  10 of  10, nPLL: = -339.5730Performing leave-one-out cross validation...\n",
      "Initializing parameters with Poisson-PCA..\n",
      "+-------------------- Fit Options --------------------+\n",
      "                                                    5 | Dimensionality of Latent State\n",
      "                                                   55 | Dimensionality of Observed State (# neurons)\n",
      "                                                Batch | EM mode:\n",
      "                                                   10 | Max EM iterations:\n",
      "                                              laplace | Inference Method\n",
      "+-----------------------------------------------------+\n",
      "\u001b[KIteration:  10 of  10, nPLL: = -332.9943Performing leave-one-out cross validation...\n"
     ]
    }
   ],
   "source": [
    "# ------------------------------\n",
    "# Perfom cross validation (1 pt)\n",
    "# ------------------------------\n",
    "\n",
    "# do the actual cross validation\n",
    "xval = util.crossValidation(\n",
    "    data, numTrainingTrials=80, numTestTrials=20, maxXdim=5, maxEMiter=10\n",
    ")"
   ]
  },
  {
   "cell_type": "markdown",
   "metadata": {},
   "source": [
    "### Plot the test error\n",
    "\n",
    "Make a plot of the test error for the five different models. As a baseline, please also include the test error of a model without a latent variable. This is essentially the SSE of a constant rate model (or Poisson likelihood if you did the optional part above). Note: We assume a constant firing rate across trials, but not necessarily across time."
   ]
  },
  {
   "cell_type": "code",
   "execution_count": 13,
   "metadata": {},
   "outputs": [
    {
     "name": "stdout",
     "output_type": "stream",
     "text": [
      "\u001b[0;31mInit signature:\u001b[0m\n",
      "\u001b[0mengine\u001b[0m\u001b[0;34m.\u001b[0m\u001b[0mPPGPFAfit\u001b[0m\u001b[0;34m(\u001b[0m\u001b[0;34m\u001b[0m\n",
      "\u001b[0;34m\u001b[0m    \u001b[0mexperiment\u001b[0m\u001b[0;34m,\u001b[0m\u001b[0;34m\u001b[0m\n",
      "\u001b[0;34m\u001b[0m    \u001b[0minitParams\u001b[0m\u001b[0;34m=\u001b[0m\u001b[0;32mNone\u001b[0m\u001b[0;34m,\u001b[0m\u001b[0;34m\u001b[0m\n",
      "\u001b[0;34m\u001b[0m    \u001b[0mxdim\u001b[0m\u001b[0;34m=\u001b[0m\u001b[0;36m2\u001b[0m\u001b[0;34m,\u001b[0m\u001b[0;34m\u001b[0m\n",
      "\u001b[0;34m\u001b[0m    \u001b[0minferenceMethod\u001b[0m\u001b[0;34m=\u001b[0m\u001b[0;34m'laplace'\u001b[0m\u001b[0;34m,\u001b[0m\u001b[0;34m\u001b[0m\n",
      "\u001b[0;34m\u001b[0m    \u001b[0mmaxEMiter\u001b[0m\u001b[0;34m=\u001b[0m\u001b[0;36m50\u001b[0m\u001b[0;34m,\u001b[0m\u001b[0;34m\u001b[0m\n",
      "\u001b[0;34m\u001b[0m    \u001b[0moptimLogLamb\u001b[0m\u001b[0;34m=\u001b[0m\u001b[0;32mFalse\u001b[0m\u001b[0;34m,\u001b[0m\u001b[0;34m\u001b[0m\n",
      "\u001b[0;34m\u001b[0m    \u001b[0mCdOptimMethod\u001b[0m\u001b[0;34m=\u001b[0m\u001b[0;34m'TNC'\u001b[0m\u001b[0;34m,\u001b[0m\u001b[0;34m\u001b[0m\n",
      "\u001b[0;34m\u001b[0m    \u001b[0mtauOptimMethod\u001b[0m\u001b[0;34m=\u001b[0m\u001b[0;34m'TNC'\u001b[0m\u001b[0;34m,\u001b[0m\u001b[0;34m\u001b[0m\n",
      "\u001b[0;34m\u001b[0m    \u001b[0mverbose\u001b[0m\u001b[0;34m=\u001b[0m\u001b[0;32mFalse\u001b[0m\u001b[0;34m,\u001b[0m\u001b[0;34m\u001b[0m\n",
      "\u001b[0;34m\u001b[0m    \u001b[0mEMmode\u001b[0m\u001b[0;34m=\u001b[0m\u001b[0;34m'Online'\u001b[0m\u001b[0;34m,\u001b[0m\u001b[0;34m\u001b[0m\n",
      "\u001b[0;34m\u001b[0m    \u001b[0mbatchSize\u001b[0m\u001b[0;34m=\u001b[0m\u001b[0;36m5\u001b[0m\u001b[0;34m,\u001b[0m\u001b[0;34m\u001b[0m\n",
      "\u001b[0;34m\u001b[0m    \u001b[0monlineParamUpdateMethod\u001b[0m\u001b[0;34m=\u001b[0m\u001b[0;34m'diag'\u001b[0m\u001b[0;34m,\u001b[0m\u001b[0;34m\u001b[0m\n",
      "\u001b[0;34m\u001b[0m    \u001b[0mhessTol\u001b[0m\u001b[0;34m=\u001b[0m\u001b[0;32mNone\u001b[0m\u001b[0;34m,\u001b[0m\u001b[0;34m\u001b[0m\n",
      "\u001b[0;34m\u001b[0m    \u001b[0mstepPow\u001b[0m\u001b[0;34m=\u001b[0m\u001b[0;36m0.75\u001b[0m\u001b[0;34m,\u001b[0m\u001b[0;34m\u001b[0m\n",
      "\u001b[0;34m\u001b[0m    \u001b[0mupdateCdJointly\u001b[0m\u001b[0;34m=\u001b[0m\u001b[0;32mTrue\u001b[0m\u001b[0;34m,\u001b[0m\u001b[0;34m\u001b[0m\n",
      "\u001b[0;34m\u001b[0m    \u001b[0mfullyUpdateTau\u001b[0m\u001b[0;34m=\u001b[0m\u001b[0;32mFalse\u001b[0m\u001b[0;34m,\u001b[0m\u001b[0;34m\u001b[0m\n",
      "\u001b[0;34m\u001b[0m    \u001b[0mextractAllTraj\u001b[0m\u001b[0;34m=\u001b[0m\u001b[0;32mFalse\u001b[0m\u001b[0;34m,\u001b[0m\u001b[0;34m\u001b[0m\n",
      "\u001b[0;34m\u001b[0m    \u001b[0mextractAllTraj_trueParams\u001b[0m\u001b[0;34m=\u001b[0m\u001b[0;32mFalse\u001b[0m\u001b[0;34m,\u001b[0m\u001b[0;34m\u001b[0m\n",
      "\u001b[0;34m\u001b[0m    \u001b[0mgetPredictionErr\u001b[0m\u001b[0;34m=\u001b[0m\u001b[0;32mFalse\u001b[0m\u001b[0;34m,\u001b[0m\u001b[0;34m\u001b[0m\n",
      "\u001b[0;34m\u001b[0m    \u001b[0mCdMaxIter\u001b[0m\u001b[0;34m=\u001b[0m\u001b[0;32mNone\u001b[0m\u001b[0;34m,\u001b[0m\u001b[0;34m\u001b[0m\n",
      "\u001b[0;34m\u001b[0m    \u001b[0mtauMaxIter\u001b[0m\u001b[0;34m=\u001b[0m\u001b[0;32mNone\u001b[0m\u001b[0;34m,\u001b[0m\u001b[0;34m\u001b[0m\n",
      "\u001b[0;34m\u001b[0m\u001b[0;34m)\u001b[0m\u001b[0;34m\u001b[0m\u001b[0;34m\u001b[0m\u001b[0m\n",
      "\u001b[0;31mDocstring:\u001b[0m     \n",
      "Poisson-GPFA model fit given a neural population spike data. \n",
      "\n",
      "Input Attributes:\n",
      "=================\n",
      "  * experiment : (util.dataset object), required\n",
      "    - A dataset object with the following attributes:\n",
      "        experiment.data     - A list of dictionaries in the following format:\n",
      "          experiment.data[trial]['Y'] - numpy array of shape (#time bins, # neurons)\n",
      "        experiment.T        - number of time bins, all trials must have the same length\n",
      "        experiment.trialDur - duration of each trial in ms\n",
      "        experiment.binSize  - size of bin in ms\n",
      "  \n",
      "  * initParams : (dict), required: initial parameter. \n",
      "    - Has the following fields:\n",
      "        initParams['C']   - a numpy array of shape (#neurons, #latent dimension to fit)\n",
      "        initParams['d']   - a numpy array of shape (#neurons)\n",
      "        initParams['tau'] - a numpy array of shape (#latent dimension), in seconds\n",
      "  \n",
      "  * inferenceMethod : (str), optional\n",
      "    - Specifies the posterior Gaussian approximation method used in inference. Defaults to 'laplace'.\n",
      "        inferenceMethod = 'laplace' - uses laplace approximation (mean ~= mode)\n",
      "        inferenceMethod = 'variational' - uses variational inference\n",
      "  \n",
      "  * maxEMiter : (int), optional\n",
      "    - number of maximum EM iteration, defaults to 50.\n",
      "  \n",
      "  * EMmode : (str), optional\n",
      "    - If EMmode = 'Batch', performs batch EM, where inference is performed on all available trials.\n",
      "    - If EMmode = 'Online', performs online EM, where inference is performed only on smaller number of\n",
      "      subsampled trials. User can specify further details of online EM via the init attributes\n",
      "      onlineParamUpdateMethod and priorCovOpts.\n",
      "\n",
      "  * onlineParamUpdateMethod : (str)\n",
      "    - If 'balancingGamma', parameters are updated according to \n",
      "        params_{n+1} = (gamma[n])*params_{n} + (1-gamma[n])*argmax_{params}(M_step_cost_function(params)).\n",
      "    - If 'sequentialAverage', parameters are updated according to \n",
      "        params_{n+1} = (params_{n} + argmax_{params}(M_step_cost_function(params)))/2.\n",
      "    - If 'fullyUpdateAll', parameters are updated according to\n",
      "        params_{n+1} = argmax_{params}(M_step_cost_function(params)).\n",
      "    - If 'gradientDescent', parameters are updated according to\n",
      "        params_{n+1} = params_{n} + stepSize*inv(Hessian_{params_{n}})*Gradient_{params_{n}}.\n",
      "    - If 'fullyUpdateWithPrior', parameters are updated according to\n",
      "        params_{n+1} = argmax_{params}(M_step_cost_function_with_prior(params, prior)).\n",
      "      prior is specified by the attribute priorCovOpts.\n",
      "    -- gamma is a linearly spaced decreasing sequence of length maxEMiter ranging from 0 to 1.\n",
      "  \n",
      "  * forceMaxIter : (bool), optional\n",
      "    - If True, EM iterations continue even after convergence criteria are met. Defaults to False.\n",
      "      Effective only if self.EMmode = 'Batch'.\n",
      "  \n",
      "  * verbose : (bool), optional \n",
      "    - If True, the fitting process is printed in the console.\n",
      "    \n",
      "Resulting Attributes:\n",
      "=====================\n",
      "  * optimParams - (dict), optimal parameter found\n",
      "  \n",
      "  * paramSeq - (list), a list containing the parameters found in each EM iteration\n",
      "  \n",
      "  * infRes - (dict), contains the information about inferred latent trajectories.\n",
      "      infRes['post_mean'][tr] - a numpy array of shape (xdim,T). \n",
      "                                The inferred latent trajectory of trial tr.\n",
      "      infRes['post_cov'][tr] - a numpy array of shape (xdim*T,xdim*T).\n",
      "                               The covariance of the inferred latent trajectory of trial tr.\n",
      "  \n",
      "  * posteriorLikelihood - (list), poterior likelihood at each EM iteration.\n",
      "  \n",
      "  * variationalLowerBound - (list), variational lower bound at each EM iteration. \n",
      "      This attribute only exists if inferenceMethod = 'variational'.\n",
      "\n",
      "Resulting Methods:\n",
      "==================\n",
      "  * plotTrajectory(tr) - plots the inferred trajectory and spike counts of trial tr.\n",
      "  * plotTrajectories() - plots the inferred trajectory of all trials.\n",
      "  * plotParamSeq() - plots some information about how the parameters change through EM iter.\n",
      "  * plotOptimParams() - plots the optimal parameters found.\n",
      "  * plotFitDetails() - plots some information about the fitting process as functions of EM iter.\n",
      "\u001b[0;31mFile:\u001b[0m           ~/Documents/MSc Computational Neuroscience/NeuralDataScience/poisson-gpfa/funs/engine.py\n",
      "\u001b[0;31mType:\u001b[0m           type\n",
      "\u001b[0;31mSubclasses:\u001b[0m     "
     ]
    }
   ],
   "source": [
    "?engine.PPGPFAfit"
   ]
  },
  {
   "cell_type": "code",
   "execution_count": 14,
   "metadata": {},
   "outputs": [
    {
     "data": {
      "text/plain": [
       "{'inferenceMethod': 'laplace',\n",
       " 'learningMethod': 'batch',\n",
       " 'optimXdim': np.int64(4),\n",
       " 'errs': [np.float64(41396.530045895),\n",
       "  np.float64(41143.99013722891),\n",
       "  np.float64(41048.775303013565),\n",
       "  np.float64(39673.187441949245),\n",
       "  np.float64(40146.74694194556)],\n",
       " 'maxXdim': 5,\n",
       " 'fits': [<engine.PPGPFAfit at 0x789a7fb990f0>,\n",
       "  <engine.PPGPFAfit at 0x789a87b43010>,\n",
       "  <engine.PPGPFAfit at 0x789b7c25e170>,\n",
       "  <engine.PPGPFAfit at 0x789a803fbc10>,\n",
       "  <engine.PPGPFAfit at 0x789b7c238fa0>]}"
      ]
     },
     "execution_count": 14,
     "metadata": {},
     "output_type": "execute_result"
    }
   ],
   "source": [
    "xval.__dict__"
   ]
  },
  {
   "cell_type": "code",
   "execution_count": 15,
   "metadata": {},
   "outputs": [],
   "source": [
    "fit1 = xval.fits[0]"
   ]
  },
  {
   "cell_type": "code",
   "execution_count": 16,
   "metadata": {},
   "outputs": [
    {
     "data": {
      "text/plain": [
       "(1, 1600)"
      ]
     },
     "execution_count": 16,
     "metadata": {},
     "output_type": "execute_result"
    }
   ],
   "source": [
    "allTrialsState(fit1, 1).shape"
   ]
  },
  {
   "cell_type": "code",
   "execution_count": 17,
   "metadata": {},
   "outputs": [
    {
     "data": {
      "text/plain": [
       "<engine.PPGPFAfit at 0x789a7fb990f0>"
      ]
     },
     "execution_count": 17,
     "metadata": {},
     "output_type": "execute_result"
    }
   ],
   "source": [
    "fit1"
   ]
  },
  {
   "cell_type": "code",
   "execution_count": 18,
   "metadata": {},
   "outputs": [],
   "source": [
    "# --------------------------------------------------------------------------------\n",
    "# Compute and plot the test errors for the different latent variable models (1 pt)\n",
    "# --------------------------------------------------------------------------------\n",
    "\n",
    "train_set, test_set = util.splitTrainingTestDataset(\n",
    "    data, numTrainingTrials=80, numTestTrials=20\n",
    ")\n",
    "\n",
    "# compute baseline error"
   ]
  },
  {
   "cell_type": "code",
   "execution_count": 19,
   "metadata": {},
   "outputs": [
    {
     "data": {
      "text/plain": [
       "100"
      ]
     },
     "execution_count": 19,
     "metadata": {},
     "output_type": "execute_result"
    }
   ],
   "source": [
    "len(data.data)"
   ]
  },
  {
   "cell_type": "code",
   "execution_count": 20,
   "metadata": {},
   "outputs": [
    {
     "data": {
      "text/plain": [
       "(55,)"
      ]
     },
     "execution_count": 20,
     "metadata": {},
     "output_type": "execute_result"
    }
   ],
   "source": [
    "data.data[0][\"spike_time\"].shape"
   ]
  },
  {
   "cell_type": "code",
   "execution_count": 21,
   "metadata": {},
   "outputs": [
    {
     "data": {
      "text/plain": [
       "(55, 20)"
      ]
     },
     "execution_count": 21,
     "metadata": {},
     "output_type": "execute_result"
    }
   ],
   "source": [
    "train_set.data[0][\"Y\"].shape  # neurons, n_bins"
   ]
  },
  {
   "cell_type": "code",
   "execution_count": 22,
   "metadata": {},
   "outputs": [
    {
     "data": {
      "text/plain": [
       "array([[0, 3, 0, ..., 3, 3, 1],\n",
       "       [1, 2, 3, ..., 1, 2, 4],\n",
       "       [4, 2, 2, ..., 2, 3, 2],\n",
       "       ...,\n",
       "       [0, 0, 1, ..., 0, 0, 0],\n",
       "       [1, 1, 0, ..., 2, 3, 0],\n",
       "       [0, 0, 0, ..., 0, 1, 0]], dtype=uint8)"
      ]
     },
     "execution_count": 22,
     "metadata": {},
     "output_type": "execute_result"
    }
   ],
   "source": [
    "train_set.data[0][\"Y\"]"
   ]
  },
  {
   "cell_type": "code",
   "execution_count": 23,
   "metadata": {},
   "outputs": [
    {
     "ename": "NameError",
     "evalue": "name 'baseline_error' is not defined",
     "output_type": "error",
     "traceback": [
      "\u001b[0;31m---------------------------------------------------------------------------\u001b[0m",
      "\u001b[0;31mNameError\u001b[0m                                 Traceback (most recent call last)",
      "Cell \u001b[0;32mIn[23], line 18\u001b[0m\n\u001b[1;32m     11\u001b[0m fig, ax \u001b[38;5;241m=\u001b[39m plt\u001b[38;5;241m.\u001b[39msubplots(figsize\u001b[38;5;241m=\u001b[39m(\u001b[38;5;241m4\u001b[39m, \u001b[38;5;241m3\u001b[39m))\n\u001b[1;32m     15\u001b[0m \u001b[38;5;66;03m# plot model error\u001b[39;00m\n\u001b[1;32m     16\u001b[0m \n\u001b[1;32m     17\u001b[0m \u001b[38;5;66;03m# plot baseline\u001b[39;00m\n\u001b[0;32m---> 18\u001b[0m ax\u001b[38;5;241m.\u001b[39maxhline(\u001b[43mbaseline_error\u001b[49m, linestyle\u001b[38;5;241m=\u001b[39m\u001b[38;5;124m\"\u001b[39m\u001b[38;5;124m--\u001b[39m\u001b[38;5;124m\"\u001b[39m)\n",
      "\u001b[0;31mNameError\u001b[0m: name 'baseline_error' is not defined"
     ]
    },
    {
     "data": {
      "image/png": "[encoded data removed]",
      "text/plain": [
       "<Figure size 400x300 with 1 Axes>"
      ]
     },
     "metadata": {},
     "output_type": "display_data"
    }
   ],
   "source": [
    "# -------------------------------------------------------------------------\n",
    "# Compute and plot the test errors for the different latent variable models\n",
    "# and answer the questions below (1+1 pts)\n",
    "# -------------------------------------------------------------------------\n",
    "\n",
    "\n",
    "# Your plot here\n",
    "fig, ax = plt.subplots(figsize=(4, 3))\n",
    "\n",
    "\n",
    "# plot model error\n",
    "\n",
    "# plot baseline\n",
    "ax.axhline(baseline_error, linestyle=\"--\")"
   ]
  },
  {
   "cell_type": "markdown",
   "metadata": {},
   "source": [
    "### Questions\n",
    "\n",
    "Is the baseline error (0 latents) about what you expect in relation to the other models? Why or why not?\n",
    "\n",
    "_YOUR ANSWER GOES HERE_\n",
    "\n",
    "Can you identify a \"best model\". If so, which is it and what does this say about the structure of the latent state?\n",
    "\n",
    "_YOUR ANSWER GOES HERE_"
   ]
  },
  {
   "cell_type": "markdown",
   "metadata": {},
   "source": [
    "## Task 3. Visualization: population rasters and latent state.\n",
    "Use the model with a single latent state. \n",
    "\n",
    "Create a raster plot where you show for each trial the spikes of all neurons as well as the trajectory of the latent state `x` (take care of the correct time axis). Sort the neurons by their weights `c_k`. Plot only the first 20 trials.\n",
    "\n",
    "*Grading: 2 pts*"
   ]
  },
  {
   "cell_type": "code",
   "execution_count": null,
   "metadata": {},
   "outputs": [],
   "source": [
    "st = data.data[0][\"spike_time\"]"
   ]
  },
  {
   "cell_type": "code",
   "execution_count": null,
   "metadata": {},
   "outputs": [
    {
     "data": {
      "text/plain": [
       "55"
      ]
     },
     "execution_count": 96,
     "metadata": {},
     "output_type": "execute_result"
    }
   ],
   "source": [
    "len(st) # 55 neurons"
   ]
  },
  {
   "cell_type": "code",
   "execution_count": null,
   "metadata": {},
   "outputs": [
    {
     "name": "stdout",
     "output_type": "stream",
     "text": [
      "64\n",
      "64\n",
      "77\n",
      "109\n",
      "23\n",
      "2\n",
      "57\n",
      "9\n",
      "6\n",
      "8\n",
      "9\n",
      "13\n",
      "53\n",
      "65\n",
      "181\n",
      "4\n",
      "0\n",
      "0\n",
      "0\n",
      "0\n",
      "0\n",
      "66\n",
      "25\n",
      "9\n",
      "11\n",
      "17\n",
      "50\n",
      "27\n",
      "29\n",
      "20\n",
      "8\n",
      "19\n",
      "6\n",
      "1\n",
      "49\n",
      "5\n",
      "43\n",
      "73\n",
      "11\n",
      "1\n",
      "34\n",
      "84\n",
      "51\n",
      "3\n",
      "55\n",
      "7\n",
      "86\n",
      "94\n",
      "11\n",
      "0\n",
      "8\n",
      "2\n",
      "3\n",
      "33\n",
      "16\n"
     ]
    }
   ],
   "source": [
    "list(print(len(el)) for el in st);"
   ]
  },
  {
   "cell_type": "code",
   "execution_count": null,
   "metadata": {},
   "outputs": [
    {
     "data": {
      "text/plain": [
       "(64, 1)"
      ]
     },
     "execution_count": 98,
     "metadata": {},
     "output_type": "execute_result"
    }
   ],
   "source": [
    "st[0].shape"
   ]
  },
  {
   "cell_type": "code",
   "execution_count": null,
   "metadata": {},
   "outputs": [],
   "source": [
    "from numpy import matlib\n",
    "\n",
    "# Your plot here\n",
    "fig, axs = plt.subplots(10, 2, figsize=(14, 14))\n",
    "\n",
    "ts = np.linspace(0, 2000, 100)\n",
    "xa = 0.15\n",
    "xs = 0.7 * xa * np.sin(ts / 1000 * 3.4 * 2 * np.pi) + xa\n",
    "\n",
    "with sns.axes_style(\"ticks\"):\n",
    "    for ntrial, ax in enumerate(axs.flat):\n",
    "        x = range(50, 2000, 100)  # assume binsize of 100ms\n",
    "\n",
    "        # --------------------------------------------------------\n",
    "        # plot the raster for each neuron and latent state (2 pts)\n",
    "        # --------------------------------------------------------\n",
    "\n",
    "        # hint: can be plotted on top of the corresponding raster\n",
    "        \n",
    "        # sort neurons by weight\n",
    "\n",
    "        if ntrial == 0:\n",
    "            ax.legend()\n",
    "        if ntrial == 1:\n",
    "            ax.plot([1000, 2000], [-30, -30], color=\"green\")\n",
    "            ax.text(1300, -50, \"1sec\")\n",
    "        if ntrial < 2:\n",
    "            ax.plot(ts, (xs * 40) + data.ydim, \"k\", color=\"black\")\n",
    "\n",
    "        ax.set_yticks([])\n",
    "        ax.set_xticks([])"
   ]
  },
  {
   "cell_type": "markdown",
   "metadata": {},
   "source": [
    "## Task 4. Visualization of covariance matrix.\n",
    "\n",
    "Plot (a) the covariance matrix of the observed data as well as its approximation using (b) one and (c) five latent variable(s). Use the analytical solution for the covariance matrix of the approximation*. Note that the solution is essentially the mean and covariance of the [log-normal distribution](https://en.wikipedia.org/wiki/Log-normal_distribution).\n",
    "\n",
    "$ \\mu = \\exp(\\frac{1}{2} \\text{ diag}(CC^T)+d)$\n",
    "\n",
    "$ \\text{Cov}= \\mu\\otimes\\mu^T \\odot \\exp(CC^T)+\\mu\\cdot \\mathbb{I} - \\mu\\otimes\\mu^T$ \n",
    "\n",
    "*[Krumin, M., and Shoham, S. (2009). Generation of Spike Trains with Controlled Auto- and Cross-Correlation Functions. Neural Computation 21, 1642–1664](http://www.mitpressjournals.org/doi/10.1162/neco.2009.08-08-847).\n",
    "\n",
    "*Grading: 3 pts*"
   ]
  },
  {
   "cell_type": "code",
   "execution_count": null,
   "metadata": {},
   "outputs": [],
   "source": [
    "# --------------------------------------------------------------\n",
    "# Complete the analytical solution for the covariance matrix of\n",
    "# the approximation using the provide equations (2 pts)\n",
    "# --------------------------------------------------------------\n",
    "\n",
    "\n",
    "def cov(fit: engine.PPGPFAfit) -> np.ndarray:\n",
    "    \n",
    "    return c, mu\n",
    "\n",
    "\n",
    "# --------------------------------------------------------------\n",
    "# Plot the covariance matrix of\n",
    "# (1) the observed data\n",
    "# (2) its approximation using 1 latent variable\n",
    "# (3) its approximation using 5 latent variable\n",
    "# and explain how they compare (1+1 pts).\n",
    "# --------------------------------------------------------------\n",
    "\n",
    "obs_corr = np.cov(data.all_raster)\n",
    "opt_r1, mu1 = cov(xval.fits[0])\n",
    "opt_r5, mu5 = cov(xval.fits[4])\n",
    "\n",
    "# HINT: Think about which type of colormap and ranges are appropriate here. \n",
    "\n",
    "fig, axs = plt.subplots(1, 3, figsize=(10, 3.5))\n",
    "# add plot to visualize the differences in the covariance matrices"
   ]
  },
  {
   "cell_type": "markdown",
   "metadata": {},
   "source": [
    "### Questions\n",
    "\n",
    "What do you see / expect to see?\n",
    "\n",
    "_YOUR ANSWER GOES HERE_"
   ]
  }
 ],
 "metadata": {
  "kernelspec": {
   "display_name": "nds_env",
   "language": "python",
   "name": "python3"
  },
  "language_info": {
   "codemirror_mode": {
    "name": "ipython",
    "version": 3
   },
   "file_extension": ".py",
   "mimetype": "text/x-python",
   "name": "python",
   "nbconvert_exporter": "python",
   "pygments_lexer": "ipython3",
   "version": "3.10.0"
  }
 },
 "nbformat": 4,
 "nbformat_minor": 4
}
